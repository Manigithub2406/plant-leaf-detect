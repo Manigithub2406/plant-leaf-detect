{
 "cells": [
  {
   "cell_type": "code",
   "execution_count": 5,
   "metadata": {},
   "outputs": [],
   "source": [
    "import Augmentor\n",
    "import numpy as np\n",
    "import os\n",
    "import glob\n",
    "import random\n",
    "import collections\n",
    "from PIL import Image\n",
    "import keras\n",
    "from keras.models import Sequential\n",
    "from keras.layers import Dense, Dropout, Flatten\n",
    "from keras.layers import Conv2D, MaxPooling2D\n",
    "import matplotlib.pyplot as plt"
   ]
  },
  {
   "cell_type": "code",
   "execution_count": 6,
   "metadata": {},
   "outputs": [
    {
     "name": "stdout",
     "output_type": "stream",
     "text": [
      "Folders (classes) found: ['leaf1', 'leaf10', 'leaf11', 'leaf12', 'leaf13', 'leaf14', 'leaf15', 'leaf2', 'leaf3', 'leaf4', 'leaf5', 'leaf6', 'leaf7', 'leaf8', 'leaf9'] \n"
     ]
    }
   ],
   "source": [
    "root_directory = \"E:/PROJECTS/Plant-Leaf-Recognition-main/Plant-Leaf-Recognition-main/dataset/*\"\n",
    "\n",
    "folders = []\n",
    "for f in glob.glob(root_directory):\n",
    "    if os.path.isdir(f):\n",
    "        folders.append(os.path.abspath(f))\n",
    "\n",
    "print(\"Folders (classes) found: %s \" % [os.path.split(x)[1] for x in folders])"
   ]
  },
  {
   "cell_type": "code",
   "execution_count": 7,
   "metadata": {},
   "outputs": [
    {
     "name": "stdout",
     "output_type": "stream",
     "text": [
      "Folder E:\\PROJECTS\\Plant-Leaf-Recognition-main\\Plant-Leaf-Recognition-main\\dataset\\leaf1:\n",
      "Initialised with 75 image(s) found.\n",
      "Output directory set to E:\\PROJECTS\\Plant-Leaf-Recognition-main\\Plant-Leaf-Recognition-main\\dataset\\leaf1\\output.\n",
      "----------------------------\n",
      "\n",
      "Folder E:\\PROJECTS\\Plant-Leaf-Recognition-main\\Plant-Leaf-Recognition-main\\dataset\\leaf10:\n",
      "Initialised with 75 image(s) found.\n",
      "Output directory set to E:\\PROJECTS\\Plant-Leaf-Recognition-main\\Plant-Leaf-Recognition-main\\dataset\\leaf10\\output.\n",
      "----------------------------\n",
      "\n",
      "Folder E:\\PROJECTS\\Plant-Leaf-Recognition-main\\Plant-Leaf-Recognition-main\\dataset\\leaf11:\n",
      "Initialised with 75 image(s) found.\n",
      "Output directory set to E:\\PROJECTS\\Plant-Leaf-Recognition-main\\Plant-Leaf-Recognition-main\\dataset\\leaf11\\output.\n",
      "----------------------------\n",
      "\n",
      "Folder E:\\PROJECTS\\Plant-Leaf-Recognition-main\\Plant-Leaf-Recognition-main\\dataset\\leaf12:\n",
      "Initialised with 75 image(s) found.\n",
      "Output directory set to E:\\PROJECTS\\Plant-Leaf-Recognition-main\\Plant-Leaf-Recognition-main\\dataset\\leaf12\\output.\n",
      "----------------------------\n",
      "\n",
      "Folder E:\\PROJECTS\\Plant-Leaf-Recognition-main\\Plant-Leaf-Recognition-main\\dataset\\leaf13:\n",
      "Initialised with 75 image(s) found.\n",
      "Output directory set to E:\\PROJECTS\\Plant-Leaf-Recognition-main\\Plant-Leaf-Recognition-main\\dataset\\leaf13\\output.\n",
      "----------------------------\n",
      "\n",
      "Folder E:\\PROJECTS\\Plant-Leaf-Recognition-main\\Plant-Leaf-Recognition-main\\dataset\\leaf14:\n",
      "Initialised with 75 image(s) found.\n",
      "Output directory set to E:\\PROJECTS\\Plant-Leaf-Recognition-main\\Plant-Leaf-Recognition-main\\dataset\\leaf14\\output.\n",
      "----------------------------\n",
      "\n",
      "Folder E:\\PROJECTS\\Plant-Leaf-Recognition-main\\Plant-Leaf-Recognition-main\\dataset\\leaf15:\n",
      "Initialised with 75 image(s) found.\n",
      "Output directory set to E:\\PROJECTS\\Plant-Leaf-Recognition-main\\Plant-Leaf-Recognition-main\\dataset\\leaf15\\output.\n",
      "----------------------------\n",
      "\n",
      "Folder E:\\PROJECTS\\Plant-Leaf-Recognition-main\\Plant-Leaf-Recognition-main\\dataset\\leaf2:\n",
      "Initialised with 75 image(s) found.\n",
      "Output directory set to E:\\PROJECTS\\Plant-Leaf-Recognition-main\\Plant-Leaf-Recognition-main\\dataset\\leaf2\\output.\n",
      "----------------------------\n",
      "\n",
      "Folder E:\\PROJECTS\\Plant-Leaf-Recognition-main\\Plant-Leaf-Recognition-main\\dataset\\leaf3:\n",
      "Initialised with 75 image(s) found.\n",
      "Output directory set to E:\\PROJECTS\\Plant-Leaf-Recognition-main\\Plant-Leaf-Recognition-main\\dataset\\leaf3\\output.\n",
      "----------------------------\n",
      "\n",
      "Folder E:\\PROJECTS\\Plant-Leaf-Recognition-main\\Plant-Leaf-Recognition-main\\dataset\\leaf4:\n",
      "Initialised with 75 image(s) found.\n",
      "Output directory set to E:\\PROJECTS\\Plant-Leaf-Recognition-main\\Plant-Leaf-Recognition-main\\dataset\\leaf4\\output.\n",
      "----------------------------\n",
      "\n",
      "Folder E:\\PROJECTS\\Plant-Leaf-Recognition-main\\Plant-Leaf-Recognition-main\\dataset\\leaf5:\n",
      "Initialised with 75 image(s) found.\n",
      "Output directory set to E:\\PROJECTS\\Plant-Leaf-Recognition-main\\Plant-Leaf-Recognition-main\\dataset\\leaf5\\output.\n",
      "----------------------------\n",
      "\n",
      "Folder E:\\PROJECTS\\Plant-Leaf-Recognition-main\\Plant-Leaf-Recognition-main\\dataset\\leaf6:\n",
      "Initialised with 75 image(s) found.\n",
      "Output directory set to E:\\PROJECTS\\Plant-Leaf-Recognition-main\\Plant-Leaf-Recognition-main\\dataset\\leaf6\\output.\n",
      "----------------------------\n",
      "\n",
      "Folder E:\\PROJECTS\\Plant-Leaf-Recognition-main\\Plant-Leaf-Recognition-main\\dataset\\leaf7:\n",
      "Initialised with 75 image(s) found.\n",
      "Output directory set to E:\\PROJECTS\\Plant-Leaf-Recognition-main\\Plant-Leaf-Recognition-main\\dataset\\leaf7\\output.\n",
      "----------------------------\n",
      "\n",
      "Folder E:\\PROJECTS\\Plant-Leaf-Recognition-main\\Plant-Leaf-Recognition-main\\dataset\\leaf8:\n",
      "Initialised with 75 image(s) found.\n",
      "Output directory set to E:\\PROJECTS\\Plant-Leaf-Recognition-main\\Plant-Leaf-Recognition-main\\dataset\\leaf8\\output.\n",
      "----------------------------\n",
      "\n",
      "Folder E:\\PROJECTS\\Plant-Leaf-Recognition-main\\Plant-Leaf-Recognition-main\\dataset\\leaf9:\n",
      "Initialised with 75 image(s) found.\n",
      "Output directory set to E:\\PROJECTS\\Plant-Leaf-Recognition-main\\Plant-Leaf-Recognition-main\\dataset\\leaf9\\output.\n",
      "----------------------------\n",
      "\n",
      "Class leaf1 has 75 samples.\n",
      "Class leaf10 has 75 samples.\n",
      "Class leaf11 has 75 samples.\n",
      "Class leaf12 has 75 samples.\n",
      "Class leaf13 has 75 samples.\n",
      "Class leaf14 has 75 samples.\n",
      "Class leaf15 has 75 samples.\n",
      "Class leaf2 has 75 samples.\n",
      "Class leaf3 has 75 samples.\n",
      "Class leaf4 has 75 samples.\n",
      "Class leaf5 has 75 samples.\n",
      "Class leaf6 has 75 samples.\n",
      "Class leaf7 has 75 samples.\n",
      "Class leaf8 has 75 samples.\n",
      "Class leaf9 has 75 samples.\n"
     ]
    },
    {
     "data": {
      "text/plain": [
       "{'leaf1': <Augmentor.Pipeline.Pipeline at 0x15453dbdf10>,\n",
       " 'leaf10': <Augmentor.Pipeline.Pipeline at 0x15412803f50>,\n",
       " 'leaf11': <Augmentor.Pipeline.Pipeline at 0x1547c732d90>,\n",
       " 'leaf12': <Augmentor.Pipeline.Pipeline at 0x1547ff12590>,\n",
       " 'leaf13': <Augmentor.Pipeline.Pipeline at 0x1547c31fcd0>,\n",
       " 'leaf14': <Augmentor.Pipeline.Pipeline at 0x1547bbcd8d0>,\n",
       " 'leaf15': <Augmentor.Pipeline.Pipeline at 0x15402d64310>,\n",
       " 'leaf2': <Augmentor.Pipeline.Pipeline at 0x154000d79d0>,\n",
       " 'leaf3': <Augmentor.Pipeline.Pipeline at 0x1547c982d50>,\n",
       " 'leaf4': <Augmentor.Pipeline.Pipeline at 0x1547ff2f010>,\n",
       " 'leaf5': <Augmentor.Pipeline.Pipeline at 0x1547c136810>,\n",
       " 'leaf6': <Augmentor.Pipeline.Pipeline at 0x15400016650>,\n",
       " 'leaf7': <Augmentor.Pipeline.Pipeline at 0x15400094850>,\n",
       " 'leaf8': <Augmentor.Pipeline.Pipeline at 0x15400094510>,\n",
       " 'leaf9': <Augmentor.Pipeline.Pipeline at 0x154000346d0>}"
      ]
     },
     "execution_count": 7,
     "metadata": {},
     "output_type": "execute_result"
    }
   ],
   "source": [
    "pipelines = {}\n",
    "for folder in folders:\n",
    "    print(\"Folder %s:\" % (folder))\n",
    "    pipelines[os.path.split(folder)[1]] = (Augmentor.Pipeline(folder))\n",
    "    print(\"\\n----------------------------\\n\")\n",
    "\n",
    "for p in pipelines.values():\n",
    "    print(\"Class %s has %s samples.\" % (p.augmentor_images[0].class_label, len(p.augmentor_images)))\n",
    "    \n",
    "pipelines "
   ]
  },
  {
   "cell_type": "code",
   "execution_count": 8,
   "metadata": {
    "scrolled": true
   },
   "outputs": [
    {
     "name": "stderr",
     "output_type": "stream",
     "text": [
      "Processing <PIL.Image.Image image mode=RGB size=984x1643 at 0x15402D08B10>: 100%|█| 333/333 [01:25<00:00,  3.92 Samples\n",
      "Processing <PIL.Image.Image image mode=RGB size=1947x3022 at 0x1547C89F250>: 100%|█| 333/333 [05:35<00:00,  1.01s/ Samp\n",
      "Processing <PIL.Image.Image image mode=RGB size=719x1342 at 0x15402C44210>: 100%|█| 333/333 [01:01<00:00,  5.39 Samples\n",
      "Processing <PIL.Image.Image image mode=RGB size=1219x1648 at 0x15401990410>: 100%|█| 333/333 [02:15<00:00,  2.46 Sample\n",
      "Processing <PIL.Image.Image image mode=RGB size=746x1469 at 0x1547BBD8850>: 100%|█| 333/333 [01:44<00:00,  3.18 Samples\n",
      "Processing <PIL.Image.Image image mode=RGB size=1394x2144 at 0x154000BF950>: 100%|█| 333/333 [02:16<00:00,  2.44 Sample\n",
      "Processing <PIL.Image.Image image mode=RGB size=674x1104 at 0x1547C4480D0>: 100%|█| 333/333 [01:09<00:00,  4.78 Samples\n",
      "Processing <PIL.TiffImagePlugin.TiffImageFile image mode=RGB size=1658x2457 at 0x154090BF890>: 100%|█| 333/333 [10:09<0\n",
      "Processing <PIL.Image.Image image mode=RGB size=896x1217 at 0x1547C7451D0>: 100%|█| 333/333 [02:09<00:00,  2.58 Samples\n",
      "Processing <PIL.Image.Image image mode=RGB size=804x1317 at 0x1547C27DCD0>: 100%|█| 333/333 [01:23<00:00,  4.01 Samples\n",
      "Processing <PIL.Image.Image image mode=RGB size=540x890 at 0x154019B7590>: 100%|█| 333/333 [00:36<00:00,  9.08 Samples/\n",
      "Processing <PIL.Image.Image image mode=RGB size=1218x1717 at 0x1540154C190>: 100%|█| 333/333 [02:30<00:00,  2.21 Sample\n",
      "Processing <PIL.Image.Image image mode=RGB size=571x1793 at 0x1547C5C3210>: 100%|█| 333/333 [00:57<00:00,  5.77 Samples\n",
      "Processing <PIL.Image.Image image mode=RGB size=1156x2018 at 0x1540003F310>: 100%|█| 333/333 [02:44<00:00,  2.03 Sample\n",
      "Processing <PIL.Image.Image image mode=RGB size=1150x1958 at 0x154000FCA10>: 100%|█| 333/333 [04:52<00:00,  1.14 Sample\n"
     ]
    },
    {
     "data": {
      "text/plain": [
       "<generator object multi_generator at 0x000001547C51B9A0>"
      ]
     },
     "execution_count": 8,
     "metadata": {},
     "output_type": "execute_result"
    }
   ],
   "source": [
    "for pipeline in pipelines.values():\n",
    "    pipeline.rotate(probability=0.75, max_left_rotation=10, max_right_rotation=10)\n",
    "    pipeline.flip_left_right(probability=0.8)\n",
    "    pipeline.skew(probability=0.4)\n",
    "    pipeline.random_distortion(probability=0.5, grid_width=3, grid_height=7,magnitude=2)\n",
    "    pipeline.crop_centre(probability=0.1,percentage_area=0.8)\n",
    "    pipeline.sample(333)\n",
    "\n",
    "integer_labels = {\n",
    "    'leaf1': 0,\n",
    "    'leaf2': 1,\n",
    "    'leaf3': 2,\n",
    "    'leaf4': 3,\n",
    "    'leaf5': 4,\n",
    "    'leaf6': 5,\n",
    "    'leaf7': 6,\n",
    "    'leaf8': 7,\n",
    "    'leaf9': 8,\n",
    "    'leaf10': 9,\n",
    "    'leaf11': 10,\n",
    "    'leaf12': 11,\n",
    "    'leaf13': 12,\n",
    "    'leaf14': 13,\n",
    "    'leaf15': 14\n",
    "}\n",
    "\n",
    "PipelineContainer = collections.namedtuple(\n",
    "    'PipelineContainer',\n",
    "    'label label_integer label_categorical pipeline generator'\n",
    ")\n",
    "\n",
    "pipeline_containers = []\n",
    "\n",
    "for label, pipeline in pipelines.items():\n",
    "    label_categorical = np.zeros(len(pipelines), dtype=np.int64)\n",
    "    label_categorical[integer_labels[label]] = 1\n",
    "    pipeline_containers.append(\n",
    "        PipelineContainer(\n",
    "            label,\n",
    "            integer_labels[label],\n",
    "            label_categorical,\n",
    "            pipeline,\n",
    "            pipeline.keras_generator(batch_size=1)\n",
    "        )\n",
    "    )\n",
    "\n",
    "\n",
    "\n",
    "def multi_generator(pipeline_containers, batch_size):\n",
    "    X = []\n",
    "    y = []\n",
    "    for i in range(batch_size):\n",
    "        pipeline_container = random.choice(pipeline_containers)\n",
    "        image, _ = next(pipeline_container.generator)\n",
    "        image = image.reshape((224,224,3)) # Or (1, 28, 28) for channels_first, see Keras' docs.\n",
    "        X.append(image)\n",
    "        y.append(pipeline_container.label_categorical) # Or label_integer if required by network\n",
    "        X = np.asarray(X)\n",
    "        y = np.asarray(y)\n",
    "    yield X, y\n",
    "            \n",
    "multi_generator(pipeline_containers,1)"
   ]
  },
  {
   "cell_type": "code",
   "execution_count": null,
   "metadata": {},
   "outputs": [],
   "source": []
  }
 ],
 "metadata": {
  "kernelspec": {
   "display_name": "Python 3 (ipykernel)",
   "language": "python",
   "name": "python3"
  },
  "language_info": {
   "codemirror_mode": {
    "name": "ipython",
    "version": 3
   },
   "file_extension": ".py",
   "mimetype": "text/x-python",
   "name": "python",
   "nbconvert_exporter": "python",
   "pygments_lexer": "ipython3",
   "version": "3.11.0"
  }
 },
 "nbformat": 4,
 "nbformat_minor": 4
}
